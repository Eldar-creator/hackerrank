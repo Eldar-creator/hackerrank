{
  "cells": [
    {
      "cell_type": "code",
      "execution_count": null,
      "metadata": {
        "colab": {
          "base_uri": "https://localhost:8080/",
          "height": 356
        },
        "id": "kN3opVVzXZFA",
        "outputId": "b9e7d965-acbd-447c-996f-fb2e65985230"
      },
      "outputs": [],
      "source": [
        "import math\n",
        "import os\n",
        "import random\n",
        "import re\n",
        "import sys\n",
        "\n",
        "\n",
        "def solve(n):\n",
        "    for i in range(1, 10**5):\n",
        "        x = bin(i)[2:].replace(\"1\", \"9\")   \n",
        "        if int(x)%n==0: return x\n",
        "\n",
        "if __name__ == '__main__':\n",
        "    fptr = open(os.environ['OUTPUT_PATH'], 'w')\n",
        "\n",
        "    t = int(input().strip())\n",
        "\n",
        "    for t_itr in range(t):\n",
        "        n = int(input().strip())\n",
        "\n",
        "        result = solve(n)\n",
        "\n",
        "        fptr.write(result + '\\n')\n",
        "\n",
        "    fptr.close()\n"
      ]
    },
    {
      "cell_type": "code",
      "execution_count": null,
      "metadata": {
        "colab": {
          "base_uri": "https://localhost:8080/",
          "height": 356
        },
        "id": "6mvhUlzZXth3",
        "outputId": "ec1d91ee-9d75-432f-aa8c-748679dd8f96"
      },
      "outputs": [],
      "source": [
        "\n",
        "\n",
        "import math\n",
        "import os\n",
        "import random\n",
        "import re\n",
        "import sys\n",
        "\n",
        "\n",
        "\n",
        "def solve(a, b, c):\n",
        "    from math import gcd\n",
        "    if c > max(a,b):\n",
        "        return \"NO\"\n",
        "    elif not c % gcd(a,b):\n",
        "        return \"YES\"\n",
        "    else:\n",
        "        return \"NO\"\n",
        "\n",
        "if __name__ == '__main__':\n",
        "    fptr = open(os.environ['OUTPUT_PATH'], 'w')\n",
        "\n",
        "    t = int(input().strip())\n",
        "\n",
        "    for t_itr in range(t):\n",
        "        first_multiple_input = input().rstrip().split()\n",
        "\n",
        "        a = int(first_multiple_input[0])\n",
        "\n",
        "        b = int(first_multiple_input[1])\n",
        "\n",
        "        c = int(first_multiple_input[2])\n",
        "\n",
        "        result = solve(a, b, c)\n",
        "\n",
        "        fptr.write(result + '\\n')\n",
        "\n",
        "    fptr.close()\n"
      ]
    },
    {
      "cell_type": "code",
      "execution_count": null,
      "metadata": {
        "id": "pkd6k7pYYEt6"
      },
      "outputs": [],
      "source": [
        "N, L = int(input()), [int(n) for n in input().split()]\n",
        "while len(L) > 1:\n",
        "    L[0] += L[1] + L[0] * L[1]\n",
        "    L.pop(1)\n",
        "print(L[0] % 1000000007)\n"
      ]
    },
    {
      "cell_type": "code",
      "execution_count": null,
      "metadata": {
        "id": "P3piIgBJYmWg"
      },
      "outputs": [],
      "source": []
    }
  ],
  "metadata": {
    "colab": {
      "provenance": []
    },
    "kernelspec": {
      "display_name": "Python 3",
      "name": "python3"
    },
    "language_info": {
      "name": "python"
    }
  },
  "nbformat": 4,
  "nbformat_minor": 0
}
